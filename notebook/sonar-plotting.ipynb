{
 "cells": [
  {
   "cell_type": "markdown",
   "metadata": {},
   "source": [
    "## Parsing Micron Sonar File from CSV format"
   ]
  },
  {
   "cell_type": "code",
   "execution_count": 276,
   "metadata": {},
   "outputs": [],
   "source": [
    "# import external libraries\n",
    "import csv\n",
    "import datetime\n",
    "import dateutil\n",
    "import importlib\n",
    "import pandas as pd\n",
    "import math\n",
    "import numpy as np\n",
    "import os\n",
    "import seaborn as sns \n",
    "import scipy\n",
    "import sys\n",
    "from matplotlib import pyplot as plt \n",
    "\n",
    "# add parent directory to the path for importing modules \n",
    "sys.path.insert(1, os.path.join(sys.path[0], '..'))\n",
    "import micron_reader\n",
    "import MicronEnsemble\n",
    "import MicronTimeSeries\n",
    "\n",
    "# use Seaborn settings for plotting \n",
    "sns.set()"
   ]
  },
  {
   "cell_type": "markdown",
   "metadata": {},
   "source": [
    "## Plotting Function"
   ]
  },
  {
   "cell_type": "code",
   "execution_count": 407,
   "metadata": {},
   "outputs": [],
   "source": [
    "def plot_ensemble(ensemble, location, output_file):\n",
    "    \n",
    "    # opacity of the peak \n",
    "    if ensemble.peak_width_bin == 0: \n",
    "        peak_alpha = 0\n",
    "    else: \n",
    "        peak_alpha = 0.3\n",
    "    \n",
    "    months = {1:'Jan', 2:'Feb', 3:'Mar', 4:'Apr',  5:'May',  6:'Jun',\n",
    "              7:'Jul', 8:'Aug', 9:'Sep',10:'Oct', 11:'Nov', 12:'Dec'}\n",
    "    deg_in_quadrant = 90\n",
    "\n",
    "    sns.set(font_scale = 1.5)\n",
    "    fig, ax = plt.subplots(figsize=(15,8))\n",
    "    ax.plot(ensemble.intensity_data, linewidth=3, color='tab:blue')\n",
    "    plt.axvspan(ensemble.peak_start_bin, ensemble.peak_end_bin, alpha=peak_alpha, color='tab:purple')\n",
    "\n",
    "    fig.suptitle('Micron Sonar Ensemble, %s, %i %s %i' % \n",
    "                 (location, ensemble.day, months[ensemble.month], ensemble.year), \n",
    "                 fontsize=22, fontweight='bold')\n",
    "\n",
    "    ax.set_title(\"Incidence: %3i$^\\circ$   Bearing: %3i$^\\circ$   Intensity: %2d dB   Peak Width: %.2f m\" % \n",
    "                   (abs(ensemble.bearing - deg_in_quadrant), \n",
    "                    ensemble.bearing,\n",
    "                    ensemble.max_intensity,\n",
    "                    ensemble.peak_width), \n",
    "                 fontsize=18,\n",
    "                 fontname='Courier New')\n",
    "\n",
    "    num_ticks = 11\n",
    "    xticks = np.arange(0, ensemble.dbytes, ensemble.dbytes/(num_ticks-1))\n",
    "    xticks = np.append(xticks, ensemble.dbytes)\n",
    "    xtick_labels = [\"%.1f\" % (e*ensemble.bin_size) for e in xticks]\n",
    "    ax.set_ylim(0,25) # TODO need to set y-limit better \n",
    "    ax.set_xticks(xticks)\n",
    "    ax.set_xticklabels(xtick_labels)\n",
    "    ax.set_xlabel('Distance from Transducer [m]')\n",
    "    ax.set_ylabel('Intensity [dB]')\n",
    "    ax.legend(['Intensity', 'Rolling Median','FWHM'], loc='best')\n",
    "    plt.savefig(\"../figs/%s.png\" % (output_file))\n",
    "    plt.close()"
   ]
  },
  {
   "cell_type": "markdown",
   "metadata": {},
   "source": [
    "## Reload Modules after Making Adjustments to the Code"
   ]
  },
  {
   "cell_type": "code",
   "execution_count": 409,
   "metadata": {},
   "outputs": [],
   "source": [
    "importlib.reload(MicronEnsemble)\n",
    "importlib.reload(MicronTimeSeries)\n",
    "importlib.reload(micron_reader)\n",
    "\n",
    "filepath = \"/Users/zduguid/Dropbox (MIT)/MIT-WHOI/NSF Arctic NNA/Research Activities/2020-01-24_WHOI-Tank-Sonar-Testing/csv/Fri_24_Jan_13_34.CSV\"\n",
    "location = \"Woods Hole MA\"\n",
    "date     = (2020, 1, 24)\n",
    "\n",
    "ensemble = micron_reader.micron_reader(filepath, location, date)\n",
    "output   = \"first-ensemble.png\"\n",
    "plot_ensemble(ensemble, location, output)\n",
    "# + see if plotting function below can be made to work with new class"
   ]
  },
  {
   "cell_type": "code",
   "execution_count": 402,
   "metadata": {},
   "outputs": [
    {
     "data": {
      "text/plain": [
       "\"\\n    # store current angle and rounded angle \\n    angle_current         = data_array[data_lookup['Bearing']]\\n    angle_current_rounded = math.floor(angle_current/angle_increment)*angle_increment\\n    \\n    # TODO make this a sub-method\\n    # compute the change in angle since a plot has been generated \\n    if (not angle_previous): \\n        angle_delta = 0\\n    else:  \\n        # add change current angle difference to the running sum since last plot \\n        if angle_current - angle_previous > 0:\\n            angle_delta += angle_current - angle_previous \\n        # account for instance where \\n        else: \\n            angle_delta += angle_current + deg_in_circle - angle_previous \\n    \\n    # update previous angle \\n    angle_previous = angle_current \\n    \\n    # generate plot for every 20 degrees, avoid replotting area already plotted\\n    if ((angle_current_rounded % angle_increment == 0) and \\n        (angle_delta > angle_increment/2) and \\n        (angle_current_rounded not in angles_plotted) and \\n        (plot_on)):\\n\""
      ]
     },
     "execution_count": 402,
     "metadata": {},
     "output_type": "execute_result"
    }
   ],
   "source": [
    "\"\"\"\n",
    "    # store current angle and rounded angle \n",
    "    angle_current         = data_array[data_lookup['Bearing']]\n",
    "    angle_current_rounded = math.floor(angle_current/angle_increment)*angle_increment\n",
    "    \n",
    "    # TODO make this a sub-method\n",
    "    # compute the change in angle since a plot has been generated \n",
    "    if (not angle_previous): \n",
    "        angle_delta = 0\n",
    "    else:  \n",
    "        # add change current angle difference to the running sum since last plot \n",
    "        if angle_current - angle_previous > 0:\n",
    "            angle_delta += angle_current - angle_previous \n",
    "        # account for instance where \n",
    "        else: \n",
    "            angle_delta += angle_current + deg_in_circle - angle_previous \n",
    "    \n",
    "    # update previous angle \n",
    "    angle_previous = angle_current \n",
    "    \n",
    "    # generate plot for every 20 degrees, avoid replotting area already plotted\n",
    "    if ((angle_current_rounded % angle_increment == 0) and \n",
    "        (angle_delta > angle_increment/2) and \n",
    "        (angle_current_rounded not in angles_plotted) and \n",
    "        (plot_on)):\n",
    "\"\"\""
   ]
  },
  {
   "cell_type": "markdown",
   "metadata": {},
   "source": [
    "## Print All Attributes of the Micron Sonar Ensemble "
   ]
  },
  {
   "cell_type": "code",
   "execution_count": 397,
   "metadata": {},
   "outputs": [
    {
     "name": "stdout",
     "output_type": "stream",
     "text": [
      "ENSEMBLE (len: 341)\n",
      "HEADER (len: 15)\n",
      "1\n",
      "1579908848.0\n",
      "2\n",
      "16\n",
      "8965\n",
      "2.0\n",
      "2\n",
      "100\n",
      "0.9411764705882353\n",
      "23.84313725490196\n",
      "30.037500000000023\n",
      "149.9625\n",
      "0.45\n",
      "30.26249999999999\n",
      "317\n",
      "DERIVED (len: 9)\n",
      "0.006309148264984227\n",
      "12.862745098039216\n",
      "152\n",
      "140\n",
      "0.8832807570977917\n",
      "158\n",
      "0.9968454258675079\n",
      "18\n",
      "0.11356466876971609\n",
      "INTENSITIES (len: 317)\n"
     ]
    }
   ],
   "source": [
    "print(\"ENSEMBLE (len: %i)\" % ensemble.ensemble_size)\n",
    "print(\"HEADER (len: %i)\" % ensemble.header_len)\n",
    "print(ensemble.line_header)\n",
    "print(ensemble.date_time)\n",
    "print(ensemble.node)\n",
    "print(ensemble.status)\n",
    "print(ensemble.hdctrl)\n",
    "print(ensemble.range_scale)\n",
    "print(ensemble.gain)\n",
    "print(ensemble.slope)\n",
    "print(ensemble.ad_low)\n",
    "print(ensemble.ad_span)\n",
    "print(ensemble.left_lim)\n",
    "print(ensemble.right_lim)\n",
    "print(ensemble.steps)\n",
    "print(ensemble.bearing)\n",
    "print(ensemble.dbytes)\n",
    "print(\"DERIVED (len: %i)\" % ensemble.derived_len)\n",
    "print(ensemble.bin_size)\n",
    "print(ensemble.max_intensity)\n",
    "print(ensemble.max_intensity_bin)\n",
    "print(ensemble.peak_start)\n",
    "print(ensemble.peak_start_dist)\n",
    "print(ensemble.peak_end)\n",
    "print(ensemble.peak_end_dist)\n",
    "print(ensemble.peak_width)\n",
    "print(ensemble.peak_width_dist)\n",
    "print(\"INTENSITIES (len: %i)\" % len(ensemble.intensity_data))"
   ]
  },
  {
   "cell_type": "markdown",
   "metadata": {},
   "source": [
    "## Playing with Bit-Encoding of Micron Data"
   ]
  },
  {
   "cell_type": "code",
   "execution_count": 398,
   "metadata": {},
   "outputs": [
    {
     "data": {
      "text/plain": [
       "16971"
      ]
     },
     "execution_count": 398,
     "metadata": {},
     "output_type": "execute_result"
    }
   ],
   "source": [
    "int(\"8923\", 16)\n",
    "int(\"16\", 16)\n",
    "bin(int(\"16\", 16))\n",
    "bin(8923)\n",
    "\n",
    "bin(16971)[2:][::-1]\n",
    "int('1101001001000010'[::-1],2)\n",
    "\n",
    "# 8923 hex -> 0b   1000 1001 0010 0011\n",
    "# 8923 int -> 0b   0010 0010 1101 1011'\n",
    "\n",
    "# 8967 hex -> 0b   1000 1001 0110 0111\n",
    "# 8967 int -> 0b   0010 0011 0000 0111'\n",
    "\n",
    "# 144  hex -> 0b 1 0100 0100\n",
    "# 144  int -> 0b   1001 0000\n",
    "# 16   hex -> 0b   0001 0110\n",
    "\n",
    "# print(header[14], row1[14]) # column 14 is the number of data points in the scanline \n",
    "# print(header[15], row1[15]) # column 15 is the first value of an array DBytes long"
   ]
  },
  {
   "cell_type": "code",
   "execution_count": null,
   "metadata": {},
   "outputs": [],
   "source": []
  }
 ],
 "metadata": {
  "kernelspec": {
   "display_name": "Python 3",
   "language": "python",
   "name": "python3"
  },
  "language_info": {
   "codemirror_mode": {
    "name": "ipython",
    "version": 3
   },
   "file_extension": ".py",
   "mimetype": "text/x-python",
   "name": "python",
   "nbconvert_exporter": "python",
   "pygments_lexer": "ipython3",
   "version": "3.6.1"
  }
 },
 "nbformat": 4,
 "nbformat_minor": 2
}
